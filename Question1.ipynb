{
 "cells": [
  {
   "cell_type": "code",
   "execution_count": 3,
   "metadata": {},
   "outputs": [],
   "source": [
    "import numpy as np\n",
    "import math\n",
    "import matplotlib.pyplot as plt\n",
    "import copy\n",
    "import time\n",
    "TRAIN_FILE_X = 'data/q1/train_x.txt'\n",
    "TRAIN_FILE_Y = 'data/q1/train_y.txt'\n",
    "TEST_FILE_X = 'data/q1/test_x.txt'\n",
    "TEST_FILE_Y = 'data/q1/test_y.txt'\n",
    "VAL_FILE_X = 'data/q1/valid_x.txt'\n",
    "VAL_FILE_Y = 'data/q1/valid_y.txt'"
   ]
  },
  {
   "cell_type": "code",
   "execution_count": 4,
   "metadata": {},
   "outputs": [],
   "source": [
    "def readsparse(filename):\n",
    "    data = []\n",
    "    i = 0\n",
    "    with open(filename) as f:\n",
    "        for line in f:\n",
    "            if(len(data)==0):\n",
    "                head = line.split()\n",
    "                data = np.zeros((int(head[0]),int(head[1]))).astype(float)\n",
    "                i = 0\n",
    "            else:\n",
    "                for el in line.split():\n",
    "                    val = float(el.split(':')[1])\n",
    "                    ind = int(el.split(':')[0])\n",
    "                    data[i][ind]=val\n",
    "                i+=1\n",
    "    return data"
   ]
  },
  {
   "cell_type": "markdown",
   "metadata": {},
   "source": [
    "#### Load data"
   ]
  },
  {
   "cell_type": "code",
   "execution_count": 5,
   "metadata": {},
   "outputs": [],
   "source": [
    "X = readsparse(TRAIN_FILE_X)\n",
    "Y = np.genfromtxt(TRAIN_FILE_Y)"
   ]
  },
  {
   "cell_type": "code",
   "execution_count": 6,
   "metadata": {},
   "outputs": [],
   "source": [
    "vX = readsparse(VAL_FILE_X)\n",
    "vY = np.genfromtxt(VAL_FILE_Y)"
   ]
  },
  {
   "cell_type": "code",
   "execution_count": 7,
   "metadata": {},
   "outputs": [],
   "source": [
    "tX = readsparse(TEST_FILE_X)\n",
    "tY = np.genfromtxt(TEST_FILE_Y)"
   ]
  },
  {
   "cell_type": "markdown",
   "metadata": {},
   "source": [
    "### Tree DS"
   ]
  },
  {
   "cell_type": "raw",
   "metadata": {},
   "source": [
    "First try median then try mean"
   ]
  },
  {
   "cell_type": "code",
   "execution_count": 8,
   "metadata": {},
   "outputs": [],
   "source": [
    "# entropy from the percentage of 1s\n",
    "def H(p):\n",
    "    # ERROR CASES\n",
    "    if(p>1):\n",
    "        return 10.0\n",
    "    # Correctly calculate and return\n",
    "    if(p>0 and p<1):\n",
    "        return - (p*math.log(p) + (1-p)*math.log(1-p))/math.log(2)\n",
    "    else:\n",
    "        return 0"
   ]
  },
  {
   "cell_type": "code",
   "execution_count": 297,
   "metadata": {},
   "outputs": [],
   "source": [
    "# remove all the attributes not presen\n",
    "'''\n",
    "WasteAttributes = []\n",
    "for i in range(0,X.shape[1]):\n",
    "    if(len(set(X[:,i]))==1):\n",
    "        WasteAttributes.append(i)\n",
    "X = np.delete(X,WasteAttributes,1)\n",
    "tX = np.delete(tX,WasteAttributes,1)\n",
    "vX = np.delete(vX,WasteAttributes,1)\n",
    "'''"
   ]
  },
  {
   "cell_type": "code",
   "execution_count": 298,
   "metadata": {},
   "outputs": [],
   "source": []
  },
  {
   "cell_type": "code",
   "execution_count": 9,
   "metadata": {},
   "outputs": [
    {
     "name": "stdout",
     "output_type": "stream",
     "text": [
      "482\n"
     ]
    }
   ],
   "source": [
    "numAttr = X.shape[1]\n",
    "print(numAttr)"
   ]
  },
  {
   "cell_type": "code",
   "execution_count": 300,
   "metadata": {},
   "outputs": [],
   "source": [
    "#check waste\n",
    "for i in range(0,X.shape[1]):\n",
    "    if(len(set(X[:,i]))==1):\n",
    "        print('ERROR')"
   ]
  },
  {
   "cell_type": "code",
   "execution_count": 10,
   "metadata": {},
   "outputs": [],
   "source": [
    "def getEntropyforAttribute(num,i):\n",
    "    global X,Y\n",
    "    median = np.median(X[:num,i])\n",
    "    right = np.where(X[:num,i] > median)[0]\n",
    "    left  = np.where(X[:num,i] <= median)[0]\n",
    "    \n",
    "    # If the attribute has no records / all records are same\n",
    "    if(len(left)==0 or len(right)==0):\n",
    "        return 10.0\n",
    "    \n",
    "    # Percentage of 1s using this classification\n",
    "    leftP = np.mean(Y[left])\n",
    "    rightP = np.mean(Y[right])\n",
    "    \n",
    "    # Calculating entropy\n",
    "    S = (float(len(left))/float(num))*H(leftP) + (float(len(right))/float(num))*H(rightP)\n",
    "    \n",
    "    return S\n",
    "ENT = np.vectorize(getEntropyforAttribute)"
   ]
  },
  {
   "cell_type": "code",
   "execution_count": 11,
   "metadata": {},
   "outputs": [],
   "source": [
    "def maxEntropyAttribute(num,allowedAttr):\n",
    "    global X,Y\n",
    "    # find the current entropy\n",
    "    currentP = np.mean(Y[:num])\n",
    "    HS = H(currentP)\n",
    "    \n",
    "    # find the entropies of the allowed attributes\n",
    "    tmp = ENT(num,allowedAttr)\n",
    "    minS = np.min(tmp)\n",
    "    \n",
    "    # if there is an information gain, then split otherwise don't.\n",
    "    if(HS - minS <= 0):\n",
    "        return -2\n",
    "    else:\n",
    "        return allowedAttr[np.argmin(tmp)]"
   ]
  },
  {
   "cell_type": "markdown",
   "metadata": {},
   "source": [
    "### Tree Data structure"
   ]
  },
  {
   "cell_type": "raw",
   "metadata": {},
   "source": [
    "Set value as 1 if mean > 0.5 \n",
    "Dont go beyong if num example less than 10"
   ]
  },
  {
   "cell_type": "code",
   "execution_count": 58,
   "metadata": {},
   "outputs": [],
   "source": [
    "class Tree:\n",
    "    def __init__(self):\n",
    "        self.left = None\n",
    "        self.right = None\n",
    "        self.val = -1\n",
    "        self.attr = -1\n",
    "        self.med = -1\n",
    "        self.ht = -1\n",
    "        \n",
    "    # Set value according to majority prediction\n",
    "    def setVal(self,num):\n",
    "        global Y\n",
    "        # if no data given, set as zero\n",
    "        if(num<1): \n",
    "            self.val = 0\n",
    "            return\n",
    "        if(np.mean(Y[:num]) > 0.5):\n",
    "            self.val = 1\n",
    "        else: \n",
    "            self.val = 0\n",
    "        return\n",
    "    \n",
    "    # Top level function for fitting with ht limit.\n",
    "    def FIT(self,htlim):\n",
    "        global X,Y,numAttr\n",
    "        \n",
    "        # Copy as the fit function will remove the X and Y\n",
    "        copyX = X\n",
    "        copyY = Y\n",
    "        \n",
    "        # fit\n",
    "        self.fit(X.shape[0],0,htlim,np.arange(numAttr))\n",
    "        \n",
    "        # copy back to X and Y to maintain order\n",
    "        X = copyX\n",
    "        Y = copyY\n",
    "        return\n",
    "    \n",
    "    # Function with more variables for fitting\n",
    "    def fit(self,num,ht,htlim,allowedAttr):\n",
    "        global X, Y\n",
    "        \n",
    "        # set values according to majority class\n",
    "        self.setVal(num)\n",
    "        \n",
    "        # Dont procede if this is a pure set or if the htlim is reached or if allowed attributes is zero.\n",
    "        if(len(set(Y[:num])) < 2 or ht > htlim or len(allowedAttr) < 1):\n",
    "            ## This would be a leaf\n",
    "            self.attr=-2\n",
    "            # Roll back changes\n",
    "            X = X[num:]\n",
    "            Y = Y[num:]\n",
    "            return\n",
    "        \n",
    "        # get best attribute\n",
    "        Attribute = maxEntropyAttribute(num,allowedAttr)\n",
    "        self.attr = Attribute\n",
    "        \n",
    "        # if no attribute found\n",
    "        if(Attribute == -2):\n",
    "            # Roll back changes\n",
    "            X = X[num:]\n",
    "            Y = Y[num:]\n",
    "            return\n",
    "        \n",
    "        # else set the values \n",
    "        self.med = np.median(X[:num,self.attr])\n",
    "        self.ht = ht\n",
    "        \n",
    "        # remove the attribute which has been done\n",
    "        ind = np.where(allowedAttr == self.attr)[0][0]\n",
    "        allowedAttr[ind] = allowedAttr[-1]\n",
    "        allowedAttr = allowedAttr[:-1]\n",
    "        \n",
    "        # re-arrange the data for left and right nodes.\n",
    "        left = np.where(X[:num,self.attr] <= self.med)[0]\n",
    "        right = np.where(X[:num,self.attr] > self.med)[0]\n",
    "        argsort = np.hstack((left,right))\n",
    "        X[:num] = X[argsort]\n",
    "        Y[:num] = Y[argsort]\n",
    "        \n",
    "        # Build the left node\n",
    "        self.left = Tree()\n",
    "        self.left.fit(len(left),ht+1,htlim,copy.deepcopy(allowedAttr))\n",
    "        \n",
    "        # Build the right node\n",
    "        self.right = Tree()\n",
    "        self.right.fit(len(right),ht+1,htlim,allowedAttr)\n",
    "        \n",
    "    # prints a node\n",
    "    def printNode(self):\n",
    "        print(self.attr,self.med,self.val)\n",
    "        \n",
    "    # recursively prints the tree\n",
    "    def printTree(self):\n",
    "        self.printNode()\n",
    "        if(self.left != None):\n",
    "            print(\"<-\")\n",
    "            self.left.printTree()\n",
    "        if(self.right != None):\n",
    "            print(\"->\")\n",
    "            self.right.printTree()\n",
    "            \n",
    "    # predicts the value for a given data value via recursion\n",
    "    def predict(self,X):\n",
    "        if(self.attr==-2):\n",
    "            return self.val\n",
    "        elif(self.attr==-1):\n",
    "            return -1\n",
    "        else:\n",
    "            if(X[self.attr]>self.med):\n",
    "                return self.right.predict(X)\n",
    "            else:\n",
    "                return self.left.predict(X)\n",
    "            \n",
    "    # counts the total number of nodes (without leaves)\n",
    "    def count(self):\n",
    "        if(self.attr==-2):\n",
    "            return 1\n",
    "        c = 0\n",
    "        if(self.right!=None):\n",
    "            c += self.right.count()\n",
    "        if(self.left!=None):\n",
    "            c += self.left.count()\n",
    "        c += 1\n",
    "        return c\n",
    "\n",
    "    # delete node using location.\n",
    "    def delete(self,loc):\n",
    "        if(len(loc)==0):\n",
    "            self.attr = -2\n",
    "            self.right = None\n",
    "            self.left = None\n",
    "        else:\n",
    "            if(loc[0]=='0'):\n",
    "                self.left.delete(loc[1:])\n",
    "            else:\n",
    "                self.right.delete(loc[1:])\n",
    "           \n",
    "    # Get the node/leaf where the prediction is made for a given X\n",
    "    def getLeaf(self,x,loc):\n",
    "        if(self.attr == -2):\n",
    "            return loc\n",
    "        else:\n",
    "            if(x[self.attr] > self.med):\n",
    "                return self.right.getLeaf(x,loc+\"1\")\n",
    "            else:\n",
    "                return self.left.getLeaf(x,loc+\"0\")\n",
    "    \n",
    "    # Get the accuracy given a dataset\n",
    "    def Accuracy(self,tX,tY):\n",
    "        R = [root.predict(x) for x in tX]\n",
    "        Correct = len(np.where(tY == R)[0])\n",
    "        return float(Correct)/float(len(tY))\n",
    "    \n",
    "    # get location and value of all the nodes\n",
    "    def locandval(self,loc):\n",
    "        if(self.attr == -2):\n",
    "            return ([],[])\n",
    "        else:\n",
    "            L = [loc]\n",
    "            V = [self.val]\n",
    "            if(self.right!=None):\n",
    "                (rTree,rVal) = self.right.locandval(loc+\"1\")\n",
    "                L += rTree\n",
    "                V += rVal\n",
    "            if(self.left!=None):\n",
    "                (lTree,lVal) = self.left.locandval(loc+\"0\")\n",
    "                L += lTree\n",
    "                V += lVal\n",
    "            return (L,V)\n",
    "\n",
    "    # to limit the depth of the tree to the given value\n",
    "    def limitHt(self,htlim):\n",
    "        if(self.ht > htlim):\n",
    "            self.attr = -2\n",
    "            self.right = None\n",
    "            self.left = None\n",
    "        else:\n",
    "            if(self.right!=None):\n",
    "                self.right.limitHt(htlim)\n",
    "            if(self.left!=None):\n",
    "                self.left.limitHt(htlim)\n",
    "                \n",
    "    # Find the height of the tree         \n",
    "    def findHT(self):\n",
    "        if(self.attr==-2):\n",
    "            return self.ht\n",
    "        HT = 0\n",
    "        if(self.right!=None):\n",
    "            rht = self.right.findHT()\n",
    "            if(rht > HT):\n",
    "                HT = rht\n",
    "        if(self.left!=None):\n",
    "            lht = self.left.findHT()\n",
    "            if(lht > HT):\n",
    "                HT = lht\n",
    "        if(self.ht > HT):\n",
    "            HT = self.ht\n",
    "        return HT"
   ]
  },
  {
   "cell_type": "code",
   "execution_count": 59,
   "metadata": {},
   "outputs": [],
   "source": [
    "# Train the tree with a very large height limit to ensure full growth\n",
    "root = Tree()\n",
    "root.FIT(1000)"
   ]
  },
  {
   "cell_type": "code",
   "execution_count": 60,
   "metadata": {},
   "outputs": [
    {
     "name": "stdout",
     "output_type": "stream",
     "text": [
      "Complete Decision Tree with 14099 nodes and 53 depth\n"
     ]
    }
   ],
   "source": [
    "n_nodes = root.count()\n",
    "depth = root.findHT()\n",
    "print(\"Complete Decision Tree with \"+str(n_nodes)+\" nodes and \"+str(depth)+\" depth\")"
   ]
  },
  {
   "cell_type": "code",
   "execution_count": 21,
   "metadata": {
    "scrolled": false
   },
   "outputs": [
    {
     "name": "stdout",
     "output_type": "stream",
     "text": [
      "Train Accuracy: 0.876114536492\n",
      "Test Accuracy: 0.788373278939\n",
      "Validation Accuracy: 0.781383274615\n"
     ]
    }
   ],
   "source": [
    "# Train, Test and Validation Accuracy \n",
    "print(\"Train Accuracy: \"+str(root.Accuracy(X,Y)))\n",
    "print(\"Test Accuracy: \"+str(root.Accuracy(tX,tY)))\n",
    "print(\"Validation Accuracy: \"+str(root.Accuracy(vX,vY)))"
   ]
  },
  {
   "cell_type": "code",
   "execution_count": 22,
   "metadata": {},
   "outputs": [
    {
     "name": "stdout",
     "output_type": "stream",
     "text": [
      "Training Complete\n",
      "Data Collection Complete\n"
     ]
    }
   ],
   "source": [
    "## Train, test and Validation for different number of nodes.\n",
    "TrainAccuracies = []\n",
    "TestAccuracies = []\n",
    "ValidationAccuracies = []\n",
    "htlims = []\n",
    "nodes = []\n",
    "FullHT = 53\n",
    "root = Tree()\n",
    "root.FIT(FullHT)\n",
    "print(\"Training Complete\")\n",
    "for htlim in range(FullHT,-1,-1):\n",
    "    htlims.append(htlim)\n",
    "    root.limitHt(htlim)\n",
    "    # Train\n",
    "    nodes.append(root.count())\n",
    "    # Train Accuracy\n",
    "    TrainAccuracy = root.Accuracy(X,Y)\n",
    "    TrainAccuracies.append(TrainAccuracy)\n",
    "    # Test Accuracy\n",
    "    TestAccuracy = root.Accuracy(tX,tY)\n",
    "    TestAccuracies.append(TestAccuracy)\n",
    "    # Validation Accuracy\n",
    "    ValidationAccuracy = root.Accuracy(vX,vY)\n",
    "    ValidationAccuracies.append(ValidationAccuracy)\n",
    "#     print(htlim,nodes[-1],TrainAccuracy,TestAccuracy,ValidationAccuracy)\n",
    "print(\"Data Collection Complete\")"
   ]
  },
  {
   "cell_type": "code",
   "execution_count": 27,
   "metadata": {},
   "outputs": [
    {
     "data": {
      "image/png": "[encoded data removed]",
      "text/plain": [
       "<Figure size 432x288 with 1 Axes>"
      ]
     },
     "metadata": {
      "needs_background": "light"
     },
     "output_type": "display_data"
    }
   ],
   "source": [
    "# Plot against number of nodes\n",
    "LIM = 0\n",
    "plt.plot(nodes[LIM:],TrainAccuracies[LIM:],marker='x')\n",
    "plt.plot(nodes[LIM:],TestAccuracies[LIM:],marker='^')\n",
    "plt.plot(nodes[LIM:],ValidationAccuracies[LIM:],marker='o')\n",
    "plt.legend(['Train','Test','Validation'])\n",
    "plt.ylabel('Accuracy')\n",
    "plt.xlabel('Nodes')\n",
    "plt.title('Accuracies vs Nodes')\n",
    "# plt.show()\n",
    "plt.savefig('accnode.png')"
   ]
  },
  {
   "cell_type": "markdown",
   "metadata": {},
   "source": [
    "### Pruning"
   ]
  },
  {
   "cell_type": "code",
   "execution_count": 33,
   "metadata": {},
   "outputs": [],
   "source": [
    "# gives the number of correct values after creating a node as leaf.\n",
    "def Corrects(node,val):\n",
    "    newR = copy.deepcopy(R)\n",
    "    tmp = [l.startswith(node) for l in LEAF]\n",
    "    newR[tmp] = val\n",
    "    return len(np.where(newR==vY)[0])\n",
    "CORR = np.vectorize(Corrects)"
   ]
  },
  {
   "cell_type": "code",
   "execution_count": 34,
   "metadata": {
    "scrolled": true
   },
   "outputs": [
    {
     "name": "stdout",
     "output_type": "stream",
     "text": [
      "Iteration #1\n",
      "remove 100100\n",
      "Iteration #2\n",
      "remove 000011000011\n",
      "Iteration #3\n",
      "remove 000011000000000000\n",
      "Iteration #4\n",
      "remove 001\n",
      "Iteration #5\n",
      "remove 0000110100\n",
      "Iteration #6\n",
      "remove 00001001000\n",
      "Iteration #7\n",
      "remove 100001000000\n",
      "Iteration #8\n",
      "remove 00001111000000\n",
      "Iteration #9\n",
      "remove 00001110\n",
      "Iteration #10\n",
      "remove 0000110101\n",
      "Iteration #11\n",
      "remove 0000100010\n",
      "Iteration #12\n",
      "remove 10000100001001\n",
      "Iteration #13\n",
      "remove 00001011100\n",
      "Iteration #14\n",
      "remove 10000010000\n",
      "Iteration #15\n",
      "remove 000001000001000\n",
      "Iteration #16\n",
      "remove 10100000000000000\n",
      "Iteration #17\n",
      "remove 00001100101\n",
      "Iteration #18\n",
      "remove 00001100100001\n",
      "Iteration #19\n",
      "remove 100010000000\n",
      "Iteration #20\n",
      "remove 100000010000\n",
      "Iteration #21\n",
      "remove 01\n",
      "Iteration #22\n",
      "remove 0000110000100\n",
      "Iteration #23\n",
      "remove 0000101000010000\n",
      "Iteration #24\n",
      "remove 000000000001000000000000110000\n",
      "Iteration #25\n",
      "remove 0000101110100011\n",
      "Iteration #26\n",
      "remove 1011\n",
      "Iteration #27\n",
      "remove 1010010\n",
      "Iteration #28\n",
      "remove 1000010100\n",
      "Iteration #29\n",
      "remove 100001000110\n",
      "Iteration #30\n",
      "remove 1000000010\n",
      "Iteration #31\n",
      "remove 0001101\n",
      "Iteration #32\n",
      "remove 00001011111000\n",
      "Iteration #33\n",
      "remove 000010100000101\n",
      "Iteration #34\n",
      "remove 0000100100100000\n",
      "Iteration #35\n",
      "remove 0000100011010000\n",
      "Iteration #36\n",
      "remove 0000100000000001\n",
      "Iteration #37\n",
      "remove 00000000111\n",
      "Iteration #38\n",
      "remove 00000000010000100\n",
      "Iteration #39\n",
      "remove 000000000001000000100000\n",
      "Iteration #40\n",
      "remove 00000000000100000001\n",
      "Iteration #41\n",
      "remove 1100\n",
      "Iteration #42\n",
      "remove 1010101\n",
      "Iteration #43\n",
      "remove 1001010100\n",
      "Iteration #44\n",
      "remove 0000110010000000000000001\n",
      "Iteration #45\n",
      "remove 0000110000000000011\n",
      "Iteration #46\n",
      "remove 0000101100101\n",
      "Iteration #47\n",
      "remove 000010110000000001\n",
      "Iteration #48\n",
      "remove 0000101001\n",
      "Iteration #49\n",
      "remove 00001000001\n",
      "Iteration #50\n",
      "remove 0000010001\n",
      "Iteration #51\n",
      "remove 000000000101101\n",
      "Iteration #52\n",
      "remove 000000000100101\n",
      "Iteration #53\n",
      "remove 000000000001000010111\n",
      "Iteration #54\n",
      "remove 00000000000100000000000010000\n",
      "Iteration #55\n",
      "remove 1111\n",
      "Iteration #56\n",
      "remove 11101\n",
      "Iteration #57\n",
      "remove 1010100010001\n",
      "Iteration #58\n",
      "remove 101010000001\n",
      "Iteration #59\n",
      "remove 10101000000000001000\n",
      "Iteration #60\n",
      "remove 101001110\n",
      "Iteration #61\n",
      "remove 1010000011\n",
      "Iteration #62\n",
      "remove 101000001000\n",
      "Iteration #63\n",
      "remove 10100000001\n",
      "Iteration #64\n",
      "remove 1010000000011\n",
      "Iteration #65\n",
      "remove 100111\n",
      "Iteration #66\n",
      "remove 100110011\n",
      "Iteration #67\n",
      "remove 1001010001\n",
      "Iteration #68\n",
      "remove 100011\n",
      "Iteration #69\n",
      "remove 10001011\n",
      "Iteration #70\n",
      "remove 10000100010\n",
      "Iteration #71\n",
      "remove 100001000011000\n",
      "Iteration #72\n",
      "remove 1000010000100000\n",
      "Iteration #73\n",
      "remove 100000110\n",
      "Iteration #74\n",
      "remove 100000011\n",
      "Iteration #75\n",
      "remove 0000110011\n",
      "Iteration #76\n",
      "remove 000011001001\n",
      "Iteration #77\n",
      "remove 0000110010001\n",
      "Iteration #78\n",
      "remove 00001100000110\n",
      "Iteration #79\n",
      "remove 0000110000000000010101\n",
      "Iteration #80\n",
      "remove 000011000000000001001\n",
      "Iteration #81\n",
      "remove 000010111100000000001\n",
      "Iteration #82\n",
      "remove 00001011101000000100\n",
      "Iteration #83\n",
      "remove 00001010000001\n",
      "Iteration #84\n",
      "remove 00001000011\n",
      "Iteration #85\n",
      "remove 0000100001000000\n",
      "Iteration #86\n",
      "remove 00001000000010\n",
      "Iteration #87\n",
      "remove 00001000000001100000010\n",
      "Iteration #88\n",
      "remove 0000100000000110000000\n",
      "Iteration #89\n",
      "remove 000010000000010000\n",
      "Iteration #90\n",
      "remove 0000010111\n",
      "Iteration #91\n",
      "remove 00000101010000\n",
      "Iteration #92\n",
      "remove 0000010100001\n",
      "Iteration #93\n",
      "remove 000001010000001\n",
      "Iteration #94\n",
      "remove 0000010011\n",
      "Iteration #95\n",
      "remove 00000100001001\n",
      "Iteration #96\n",
      "remove 0000010000000001\n",
      "Iteration #97\n",
      "remove 000001000000000010010001\n",
      "Iteration #98\n",
      "remove 0000000001101\n",
      "Iteration #99\n",
      "remove 000000000100011\n",
      "Iteration #100\n",
      "remove 00000000001\n",
      "Iteration #101\n",
      "remove 000000000001010000\n",
      "Iteration #102\n",
      "remove 0000000000010000100001100\n",
      "Iteration #103\n",
      "remove 00000000000100001000010000000\n",
      "Iteration #104\n",
      "remove 0000000000010000100000000010000000001\n",
      "Iteration #105\n",
      "remove 00000000000100001000000000000000000\n",
      "Iteration #106\n",
      "remove 0000000000010000010100\n",
      "Iteration #107\n",
      "remove 00000000000100000100\n",
      "Iteration #108\n",
      "remove 0000000000010000000000001001000000000000\n",
      "Iteration #109\n",
      "remove 00000000000100000000000000000\n",
      "Iteration #110\n",
      "remove 0000000000001000\n",
      "Iteration #111\n",
      "remove 10101000101\n",
      "Iteration #112\n",
      "remove 10101000100001\n",
      "Iteration #113\n",
      "remove 10101000001\n",
      "Iteration #114\n",
      "remove 10101000000001000\n",
      "Iteration #115\n",
      "remove 1010001\n",
      "Iteration #116\n",
      "remove 101000010\n",
      "Iteration #117\n",
      "remove 10100000100100\n",
      "Iteration #118\n",
      "remove 100110000100010\n",
      "Iteration #119\n",
      "remove 10011000001000\n",
      "Iteration #120\n",
      "remove 1001011\n",
      "Iteration #121\n",
      "remove 1000010000110010\n",
      "Iteration #122\n",
      "remove 1000010000101\n",
      "Iteration #123\n",
      "remove 1000010000100010\n",
      "Iteration #124\n",
      "remove 100001000010000101\n",
      "Iteration #125\n",
      "remove 10000011110\n",
      "Iteration #126\n",
      "remove 1000001010001\n",
      "Iteration #127\n",
      "remove 100000101000000\n",
      "Iteration #128\n",
      "remove 10000010010\n",
      "Iteration #129\n",
      "remove 10000000111\n",
      "Iteration #130\n",
      "remove 000110000001\n",
      "Iteration #131\n",
      "remove 000101\n",
      "Iteration #132\n",
      "remove 000100011\n",
      "Iteration #133\n",
      "remove 000011001000000001\n",
      "Iteration #134\n",
      "remove 0000110000101\n",
      "Iteration #135\n",
      "remove 0000110000001100\n",
      "Iteration #136\n",
      "remove 0000101111001\n",
      "Iteration #137\n",
      "remove 0000101111000001\n",
      "Iteration #138\n",
      "remove 0000101110100010\n",
      "Iteration #139\n",
      "remove 0000101110100001\n",
      "Iteration #140\n",
      "remove 0000101101\n",
      "Iteration #141\n",
      "remove 000010110000010\n",
      "Iteration #142\n",
      "remove 00001010001\n",
      "Iteration #143\n",
      "remove 00001010000101\n",
      "Iteration #144\n",
      "remove 00001010000100010000\n",
      "Iteration #145\n",
      "remove 0000100110\n",
      "Iteration #146\n",
      "remove 0000100101\n",
      "Iteration #147\n",
      "remove 0000100100100011\n",
      "Iteration #148\n",
      "remove 00001000010100001\n",
      "Iteration #149\n",
      "remove 000010000000011000001100\n",
      "Iteration #150\n",
      "remove 0000100000000110000010\n",
      "Iteration #151\n",
      "remove 00001000000001100000011\n",
      "Iteration #152\n",
      "remove 0000100000000011\n",
      "Iteration #153\n",
      "remove 00001000000000000100010\n",
      "Iteration #154\n",
      "remove 00001000000000000000\n",
      "Iteration #155\n",
      "remove 000001110001\n",
      "Iteration #156\n",
      "remove 00000110\n",
      "Iteration #157\n",
      "remove 00000101100110\n",
      "Iteration #158\n",
      "remove 000001010001\n",
      "Iteration #159\n",
      "remove 00000100100001\n",
      "Iteration #160\n",
      "remove 000001000011\n",
      "Iteration #161\n",
      "remove 00000100001010\n",
      "Iteration #162\n",
      "remove 0000010000100001\n",
      "Iteration #163\n",
      "remove 0000010000100000011\n",
      "Iteration #164\n",
      "remove 00000100001000000101\n",
      "Iteration #165\n",
      "remove 00000100000101100\n",
      "Iteration #166\n",
      "remove 000001000000010010\n",
      "Iteration #167\n",
      "remove 0000010000000000101\n",
      "Iteration #168\n",
      "remove 00000100000000000001\n",
      "Iteration #169\n",
      "remove 0000001101\n",
      "Iteration #170\n",
      "remove 0000001100001000\n",
      "Iteration #171\n",
      "remove 000000101\n",
      "Iteration #172\n",
      "remove 0000001000\n",
      "Iteration #173\n",
      "remove 00000001\n",
      "Iteration #174\n",
      "remove 000000000111000\n",
      "Iteration #175\n",
      "remove 000000000110011\n",
      "Iteration #176\n",
      "remove 00000000010010000010\n",
      "Iteration #177\n",
      "remove 00000000010000010000000\n",
      "Iteration #178\n",
      "remove 0000000001000000001000100\n",
      "Iteration #179\n",
      "remove 00000000010000000000001\n",
      "Iteration #180\n",
      "remove 000000000001110\n",
      "Iteration #181\n",
      "remove 00000000000101000101\n",
      "Iteration #182\n",
      "remove 0000000000010000101100\n",
      "Iteration #183\n",
      "remove 000000000001000010000100000010\n",
      "Iteration #184\n",
      "remove 000000000001000010000000001000000001\n",
      "Iteration #185\n",
      "remove 0000000000010000001110\n",
      "Iteration #186\n",
      "remove 000000000001000000110000100000000000000\n",
      "Iteration #187\n",
      "remove 00000000000100000011000001\n",
      "Iteration #188\n",
      "remove 000000000001000000110000000010010\n",
      "Iteration #189\n",
      "remove 0000000000010000001100000000001\n",
      "Iteration #190\n",
      "remove 000000000001000000100010\n",
      "Iteration #191\n",
      "remove 000000000001000000000000111\n",
      "Iteration #192\n",
      "remove 0000000000010000000000001001000000000001\n",
      "Iteration #193\n",
      "remove 0000000000010000000000000010000\n",
      "Iteration #194\n",
      "remove 0000000000001111\n",
      "Iteration #195\n",
      "remove 0000000000000010100\n",
      "Iteration #196\n",
      "remove 000000000000001000000000\n",
      "Iteration #197\n",
      "remove 00000000000000000000\n",
      "Iteration #198\n",
      "2330.62743402\n"
     ]
    }
   ],
   "source": [
    "st = time.time()\n",
    "TRAINSCORES = []\n",
    "TESTSCORES = []\n",
    "VALSCORES = []\n",
    "NODES = []\n",
    "i = 1\n",
    "while(True):\n",
    "    print(\"Iteration #\"+str(i)+\"\")\n",
    "    i+=1\n",
    "    TRAINSCORES.append(root.Accuracy(X,Y))\n",
    "    TESTSCORES.append(root.Accuracy(tX,tY))\n",
    "    VALSCORES.append(root.Accuracy(vX,vY))\n",
    "    NODES.append(root.count())\n",
    "    R = np.asarray([root.predict(x) for x in vX])\n",
    "    Correct = len(np.where(R == vY)[0])\n",
    "    ind = -1\n",
    "    (nodeslist,V) = root.locandval(\"\")\n",
    "    LEAF = [root.getLeaf(x,\"\") for x in vX]\n",
    "    C = CORR(nodeslist,V)\n",
    "    # If max correct values if less than equal to previous, then terminate the process.\n",
    "    if(np.max(C) > Correct):\n",
    "        ind = np.argmax(C)\n",
    "        print(\"remove \"+nodeslist[ind])\n",
    "        root.delete(nodeslist[ind])\n",
    "    else:\n",
    "        break\n",
    "print(time.time()-st)"
   ]
  },
  {
   "cell_type": "code",
   "execution_count": 48,
   "metadata": {},
   "outputs": [
    {
     "data": {
      "image/png": "[encoded data removed]",
      "text/plain": [
       "<Figure size 432x288 with 1 Axes>"
      ]
     },
     "metadata": {
      "needs_background": "light"
     },
     "output_type": "display_data"
    }
   ],
   "source": [
    "# Plot the data\n",
    "plt.plot(NODES,TRAINSCORES,marker='x')\n",
    "# plt.plot(nodes,TrainAccuracies)\n",
    "plt.plot(NODES,TESTSCORES,marker='^')\n",
    "# plt.plot(nodes,TestAccuracies)\n",
    "plt.plot(NODES,VALSCORES,marker='o')\n",
    "# plt.plot(nodes,ValidationAccuracies)\n",
    "plt.gca().invert_xaxis()\n",
    "plt.xlabel(\"Number of remaining nodes\")\n",
    "plt.ylabel(\"Accuracy\")\n",
    "plt.legend(['Train','Test','Validation'])\n",
    "plt.title(\"Accuracy vs Nodes\")\n",
    "# plt.show()\n",
    "plt.savefig('pruningacc.png')"
   ]
  },
  {
   "cell_type": "code",
   "execution_count": 57,
   "metadata": {
    "scrolled": true
   },
   "outputs": [
    {
     "name": "stdout",
     "output_type": "stream",
     "text": [
      "Train Accuracy: 0.822014123901\n",
      "Test Accuracy: 0.798711232673\n",
      "Validation Accuracy: 0.808733543482\n"
     ]
    }
   ],
   "source": [
    "# Train, Test and Validation Accuracy \n",
    "print(\"Train Accuracy: \"+str(root.Accuracy(X,Y)))\n",
    "print(\"Test Accuracy: \"+str(root.Accuracy(tX,tY)))\n",
    "print(\"Validation Accuracy: \"+str(root.Accuracy(vX,vY)))"
   ]
  },
  {
   "cell_type": "markdown",
   "metadata": {},
   "source": [
    "### Random Forest"
   ]
  },
  {
   "cell_type": "code",
   "execution_count": 52,
   "metadata": {},
   "outputs": [],
   "source": [
    "from sklearn.ensemble import RandomForestClassifier\n",
    "from sklearn.model_selection import GridSearchCV"
   ]
  },
  {
   "cell_type": "code",
   "execution_count": 90,
   "metadata": {},
   "outputs": [],
   "source": [
    "n_est_grid = 100 * (np.arange(5)) + 50\n",
    "max_features_grid = 0.2 * (np.arange(5)) + 0.1\n",
    "min_sample_split_grid = 2 * (np.arange(5)+1)"
   ]
  },
  {
   "cell_type": "code",
   "execution_count": 91,
   "metadata": {},
   "outputs": [
    {
     "name": "stdout",
     "output_type": "stream",
     "text": [
      "(9.782104969024658, 50, 0.1, 2, 0.7990048367406858, 0.7978767790088545, 0.7965881698498053)\n",
      "(9.737708806991577, 50, 0.1, 4, 0.8021417644059153, 0.8018636131843679, 0.7991841275727796)\n",
      "(9.685183048248291, 50, 0.1, 6, 0.8037952188895585, 0.8049232766213898, 0.8020582236232153)\n",
      "(9.715170860290527, 50, 0.1, 8, 0.8055104847557678, 0.8062213156552779, 0.8044223994066383)\n",
      "(9.659875869750977, 50, 0.1, 10, 0.8064067498029762, 0.8071484863937695, 0.8046541813461895)\n",
      "(19.10282611846924, 50, 0.30000000000000004, 2, 0.7994066107273654, 0.7983867229150248, 0.7958928240311515)\n",
      "(19.00933289527893, 50, 0.30000000000000004, 4, 0.8027444253859348, 0.8018636131843679, 0.7998331170035231)\n",
      "(18.92991304397583, 50, 0.30000000000000004, 6, 0.804397879869578, 0.8042278985675212, 0.801641016132023)\n",
      "(18.4462571144104, 50, 0.30000000000000004, 8, 0.8056804660578245, 0.8066849010245236, 0.804005191915446)\n",
      "(19.22023582458496, 50, 0.30000000000000004, 10, 0.8061131457357873, 0.8066385424875991, 0.8057667346560357)\n",
      "(28.2396240234375, 50, 0.5, 2, 0.7984330814519494, 0.79945296926429, 0.7947339143333951)\n",
      "(29.728239059448242, 50, 0.5, 4, 0.8011836879761408, 0.8023735570905383, 0.7993695531244206)\n",
      "(28.49317502975464, 50, 0.5, 6, 0.8039652001916153, 0.8037643131982755, 0.8012238086408308)\n",
      "(28.52552604675293, 50, 0.5, 8, 0.8048614652388237, 0.805665013212183, 0.8024290747264973)\n",
      "(27.81692910194397, 50, 0.5, 10, 0.806283127037844, 0.8056186546752584, 0.8059058038197664)\n",
      "(37.54983592033386, 50, 0.7000000000000001, 2, 0.798773044056063, 0.7978767790088545, 0.7970053773409976)\n",
      "(37.63052201271057, 50, 0.7000000000000001, 4, 0.8014154806607637, 0.8010291595197255, 0.7996013350639718)\n",
      "(37.73405885696411, 50, 0.7000000000000001, 6, 0.803161652218256, 0.8047842010106161, 0.8015946597441127)\n",
      "(37.32407307624817, 50, 0.7000000000000001, 8, 0.8045678611716347, 0.8047378424736915, 0.8034952716484332)\n",
      "(37.30450487136841, 50, 0.7000000000000001, 10, 0.8053868619906356, 0.8062676741922025, 0.8057203782681254)\n",
      "(46.60714602470398, 50, 0.9, 2, 0.7974440993308918, 0.7973668351026841, 0.7967735954014463)\n",
      "(46.90183997154236, 50, 0.9, 4, 0.7986185155996477, 0.8000556302443095, 0.799091414796959)\n",
      "(47.717050075531006, 50, 0.9, 6, 0.801925424566934, 0.8010291595197255, 0.8006211755979974)\n",
      "(47.431923151016235, 50, 0.9, 8, 0.8045215026347102, 0.8038106717352, 0.8025217875023178)\n",
      "(47.43537902832031, 50, 0.9, 10, 0.8046451253998423, 0.8052941449167864, 0.8032634897088818)\n",
      "(28.373488187789917, 150, 0.1, 2, 0.80127640504999, 0.7983403643781002, 0.7976543667717412)\n",
      "(28.45639204978943, 150, 0.1, 4, 0.8057268245947491, 0.8025126327013119, 0.8012238086408308)\n",
      "(28.315366983413696, 150, 0.1, 6, 0.8076893359912228, 0.8057113717491076, 0.8030317077693306)\n",
      "(28.44628596305847, 150, 0.1, 8, 0.8083383555081668, 0.8076120717630152, 0.804932319673651)\n",
      "(28.210524082183838, 150, 0.1, 10, 0.8086010538840728, 0.8071484863937695, 0.8063693676988689)\n",
      "(56.45236802101135, 150, 0.30000000000000004, 2, 0.8014618391976882, 0.7984794399888739, 0.7984424253662155)\n",
      "(55.94865393638611, 150, 0.30000000000000004, 4, 0.805695918903466, 0.8036252375875017, 0.8001112553309846)\n",
      "(55.89823508262634, 150, 0.30000000000000004, 6, 0.8073957319240338, 0.8058504473598813, 0.8035879844242536)\n",
      "(56.577534198760986, 150, 0.30000000000000004, 8, 0.8078747701389211, 0.8066385424875991, 0.804932319673651)\n",
      "(55.97757697105408, 150, 0.30000000000000004, 10, 0.809404601857432, 0.8071948449306939, 0.8075282773966252)\n",
      "(83.67458319664001, 150, 0.5, 2, 0.801307310741273, 0.7993602521904408, 0.7978397923233822)\n",
      "(83.21704506874084, 150, 0.5, 4, 0.8046142197085593, 0.8030689351444068, 0.7993695531244206)\n",
      "(82.51064777374268, 150, 0.5, 6, 0.8064222026486177, 0.805340503453711, 0.8028462822176896)\n",
      "(83.9929940700531, 150, 0.5, 8, 0.8075348075348076, 0.8067776180983728, 0.8047468941220101)\n",
      "(82.43753504753113, 150, 0.5, 10, 0.8076893359912228, 0.8074729961522414, 0.804376043018728)\n",
      "(110.6215410232544, 150, 0.7000000000000001, 2, 0.8007355554525366, 0.8000092717073849, 0.7985814945299462)\n",
      "(110.1983060836792, 150, 0.7000000000000001, 4, 0.8038724831177662, 0.8035325205136525, 0.7998794733914334)\n",
      "(110.24390196800232, 150, 0.7000000000000001, 6, 0.804985088003956, 0.8052477863798618, 0.8031244205451511)\n",
      "(110.12968492507935, 150, 0.7000000000000001, 8, 0.8084465254276575, 0.8061749571183533, 0.8042369738549973)\n",
      "(110.3399109840393, 150, 0.7000000000000001, 10, 0.8083229026625253, 0.8070094107829957, 0.804561468570369)\n",
      "(139.47448086738586, 150, 0.9, 2, 0.8002101587007248, 0.7991748180427426, 0.7969590209530873)\n",
      "(139.43169379234314, 150, 0.9, 4, 0.8026053497751611, 0.8011218765935747, 0.8005748192100871)\n",
      "(138.93207907676697, 150, 0.9, 6, 0.8050314465408805, 0.8040888229567474, 0.8017800852957537)\n",
      "(138.34899401664734, 150, 0.9, 8, 0.8062985798834855, 0.8054795790644848, 0.8029853513814204)\n",
      "(137.88132095336914, 150, 0.9, 10, 0.8069630522460711, 0.804366974178295, 0.8031707769330614)\n",
      "(46.87674307823181, 250, 0.1, 2, 0.8024044627818213, 0.7984330814519494, 0.7970053773409976)\n",
      "(47.098618030548096, 250, 0.1, 4, 0.8056804660578245, 0.8033470863659543, 0.8008529575375487)\n",
      "(46.63682818412781, 250, 0.1, 6, 0.8077047888368644, 0.8055722961383339, 0.804190617467087)\n",
      "(46.94276690483093, 250, 0.1, 8, 0.8090646392533185, 0.8064994668768254, 0.8052104580011126)\n",
      "(47.1692419052124, 250, 0.1, 10, 0.8105635652805464, 0.8081220156691855, 0.8068329315779714)\n",
      "(93.80157899856567, 250, 0.30000000000000004, 2, 0.8031307465269729, 0.7986185155996477, 0.7971908028926386)\n",
      "(92.7014389038086, 250, 0.30000000000000004, 4, 0.8058504473598813, 0.8041815400305966, 0.8011774522529205)\n",
      "(92.9044041633606, 250, 0.30000000000000004, 6, 0.8075039018435245, 0.8059431644337305, 0.8027999258297793)\n",
      "(93.15269804000854, 250, 0.30000000000000004, 8, 0.808755582340488, 0.8070094107829957, 0.8053495271648433)\n",
      "(92.7093141078949, 250, 0.30000000000000004, 10, 0.8095745831594888, 0.8080756571322609, 0.8059058038197664)\n",
      "(138.27326893806458, 250, 0.5, 2, 0.8018018018018018, 0.8002410643920078, 0.7977007231596513)\n",
      "(141.06923580169678, 250, 0.5, 4, 0.8043360684870119, 0.8029762180705577, 0.801641016132023)\n",
      "(141.82140493392944, 250, 0.5, 6, 0.8071175807024864, 0.8048305595475407, 0.8031244205451511)\n",
      "(137.7363419532776, 250, 0.5, 8, 0.8081220156691855, 0.8055259376014093, 0.8050250324494715)\n",
      "(138.0871570110321, 250, 0.5, 10, 0.8089564693338278, 0.8068239766352974, 0.8059058038197664)\n",
      "(183.40098190307617, 250, 0.7000000000000001, 2, 0.801600914808462, 0.79945296926429, 0.7980252178750232)\n",
      "(184.71182084083557, 250, 0.7000000000000001, 4, 0.8042278985675212, 0.8032543692921051, 0.8013165214166512)\n",
      "(182.34541392326355, 250, 0.7000000000000001, 6, 0.8061285985814288, 0.8052477863798618, 0.8012701650287409)\n",
      "(182.63208508491516, 250, 0.7000000000000001, 8, 0.8086319595753558, 0.8057113717491076, 0.8044687557945485)\n",
      "(182.21539902687073, 250, 0.7000000000000001, 10, 0.8091573563271677, 0.8064531083399008, 0.8053495271648433)\n",
      "(231.40748810768127, 250, 0.9, 2, 0.8007046497612536, 0.7992211765796672, 0.7974225848321899)\n",
      "(230.73188710212708, 250, 0.9, 4, 0.8030534822987653, 0.8014927448889713, 0.8005748192100871)\n",
      "(229.72622990608215, 250, 0.9, 6, 0.8050623522321636, 0.8034398034398035, 0.8029853513814204)\n",
      "(228.91771507263184, 250, 0.9, 8, 0.8077356945281473, 0.8040424644198229, 0.804005191915446)\n",
      "(229.9763741493225, 250, 0.9, 10, 0.8077356945281473, 0.8042278985675212, 0.8047005377340998)\n",
      "(66.41738104820251, 350, 0.1, 2, 0.8022344814797645, 0.7989893838950443, 0.7980715742629334)\n",
      "(66.7114770412445, 350, 0.1, 4, 0.8069939579373542, 0.8044596912521441, 0.8015483033562025)\n",
      "(65.94432783126831, 350, 0.1, 6, 0.8084774311189405, 0.8062676741922025, 0.8035879844242536)\n",
      "(65.92553806304932, 350, 0.1, 8, 0.8096827530789795, 0.8072412034676185, 0.8062302985351382)\n",
      "(65.66746711730957, 350, 0.1, 10, 0.8105635652805464, 0.808724676649205, 0.8062766549230483)\n",
      "(131.3107168674469, 350, 0.30000000000000004, 2, 0.8024971798556704, 0.7992675351165918, 0.7989987020211385)\n",
      "(130.68018984794617, 350, 0.30000000000000004, 4, 0.8058504473598813, 0.8039497473459738, 0.8015019469682922)\n",
      "(130.34952688217163, 350, 0.30000000000000004, 6, 0.8076738831455813, 0.8057577302860321, 0.8038197663638049)\n"
     ]
    },
    {
     "name": "stdout",
     "output_type": "stream",
     "text": [
      "(129.47276282310486, 350, 0.30000000000000004, 8, 0.809049186407677, 0.8075657132260906, 0.8052104580011126)\n",
      "(130.45781779289246, 350, 0.30000000000000004, 10, 0.8103935839784896, 0.807843864447638, 0.8061375857593176)\n",
      "(193.95040583610535, 350, 0.5, 2, 0.8020645001777077, 0.8002410643920078, 0.7982106434266641)\n",
      "(193.11008191108704, 350, 0.5, 4, 0.8045987668629178, 0.8039033888090492, 0.8017337289078434)\n",
      "(191.3924059867859, 350, 0.5, 6, 0.807488448997883, 0.805665013212183, 0.8033562024847024)\n",
      "(192.5335738658905, 350, 0.5, 8, 0.807488448997883, 0.8064531083399008, 0.8047005377340998)\n",
      "(191.03064608573914, 350, 0.5, 10, 0.8095436774682058, 0.8072412034676185, 0.8061839421472279)\n",
      "(256.56321907043457, 350, 0.7000000000000001, 2, 0.8014618391976882, 0.8001947058550832, 0.7969126645651771)\n",
      "(256.77788186073303, 350, 0.7000000000000001, 4, 0.8047996538562576, 0.8029298595336332, 0.801455590580382)\n",
      "(260.88098096847534, 350, 0.7000000000000001, 6, 0.8073957319240338, 0.8039497473459738, 0.8021045800111255)\n",
      "(258.684207201004, 350, 0.7000000000000001, 8, 0.8074729961522414, 0.8054332205275602, 0.8041442610791767)\n",
      "(253.4462468624115, 350, 0.7000000000000001, 10, 0.8086010538840728, 0.8062676741922025, 0.8051641016132023)\n",
      "(321.97799801826477, 350, 0.9, 2, 0.8010291595197255, 0.7995456863381392, 0.7977007231596513)\n",
      "(320.05007791519165, 350, 0.9, 4, 0.8032389164464636, 0.8029298595336332, 0.7996013350639718)\n",
      "(323.80347299575806, 350, 0.9, 6, 0.8057731831316737, 0.8040888229567474, 0.802011867235305)\n",
      "(320.470587015152, 350, 0.9, 8, 0.8069785050917127, 0.8043206156413704, 0.8034489152605229)\n",
      "(322.9004681110382, 350, 0.9, 10, 0.8076893359912228, 0.8051550693060127, 0.8047468941220101)\n",
      "(85.14077877998352, 450, 0.1, 2, 0.8024817270100288, 0.7982476473042511, 0.7966345262377156)\n",
      "(85.4755470752716, 450, 0.1, 4, 0.8060358815075797, 0.8037643131982755, 0.8008529575375487)\n",
      "(80.38360905647278, 450, 0.1, 6, 0.8082610912799592, 0.8060358815075797, 0.8027999258297793)\n",
      "(79.95542502403259, 450, 0.1, 8, 0.809698205924621, 0.8073339205414677, 0.805117745225292)\n",
      "(83.54192209243774, 450, 0.1, 10, 0.8098372815353947, 0.8085392425015067, 0.8066011496384202)\n",
      "(166.64376711845398, 450, 0.30000000000000004, 2, 0.8030380294531237, 0.7994993278012146, 0.798164287038754)\n",
      "(163.14664793014526, 450, 0.30000000000000004, 4, 0.8069321465547881, 0.8037179546613509, 0.8011774522529205)\n",
      "(163.61124920845032, 450, 0.30000000000000004, 6, 0.80908009209896, 0.8059895229706551, 0.8034489152605229)\n",
      "(163.1961019039154, 450, 0.30000000000000004, 8, 0.8092655262466584, 0.80654582541375, 0.8050713888373818)\n",
      "(162.9205060005188, 450, 0.30000000000000004, 10, 0.8101463384482253, 0.8071948449306939, 0.8064620804746894)\n",
      "(242.48640084266663, 450, 0.5, 2, 0.8020799530233492, 0.7998701960966111, 0.797978861487113)\n",
      "(243.9878830909729, 450, 0.5, 4, 0.8056495603665415, 0.8036252375875017, 0.8012238086408308)\n",
      "(242.75692296028137, 450, 0.5, 6, 0.8073339205414677, 0.8044133327152195, 0.8043296866308177)\n",
      "(242.49213194847107, 450, 0.5, 8, 0.8088482994143371, 0.8065921839506746, 0.8038661227517152)\n",
      "(248.55338215827942, 450, 0.5, 10, 0.8097909229984702, 0.8077975059107134, 0.8056276654923048)\n",
      "(329.2545177936554, 450, 0.7000000000000001, 2, 0.8019099717212925, 0.7988966668211951, 0.7980715742629334)\n",
      "(326.2710449695587, 450, 0.7000000000000001, 4, 0.8040733701111059, 0.8031152936813314, 0.8013165214166512)\n",
      "(325.2238578796387, 450, 0.7000000000000001, 6, 0.8067467124070897, 0.8051087107690881, 0.8032171333209717)\n",
      "(334.54176688194275, 450, 0.7000000000000001, 8, 0.8085392425015067, 0.8058968058968059, 0.8042369738549973)\n",
      "(322.4052619934082, 450, 0.7000000000000001, 10, 0.8085856010384312, 0.8063603912660516, 0.8054885963285741)\n",
      "(410.66341614723206, 450, 0.9, 2, 0.8010909709022916, 0.7988039497473459, 0.7968199517893566)\n",
      "(407.6472771167755, 450, 0.9, 4, 0.8038415774264831, 0.8013536692781976, 0.7995086222881513)\n",
      "(407.87428402900696, 450, 0.9, 6, 0.805603201829617, 0.8039497473459738, 0.8026145002781383)\n",
      "(408.915452003479, 450, 0.9, 8, 0.8074575433065999, 0.8049232766213898, 0.8028462822176896)\n",
      "(409.0068950653076, 450, 0.9, 10, 0.8079056758302041, 0.8058040888229567, 0.8050250324494715)\n",
      "17233.4941702\n"
     ]
    }
   ],
   "source": [
    "OOBSCORE = []\n",
    "TESTSCORE = []\n",
    "VALSCORE = []\n",
    "ST = time.time()\n",
    "for n_est in n_est_grid:\n",
    "    for max_features in max_features_grid:\n",
    "        for min_sample_split in min_sample_split_grid:\n",
    "            st = time.time()\n",
    "            clf = RandomForestClassifier(n_estimators=n_est,min_samples_split=min_sample_split,max_features=max_features,bootstrap=True,oob_score=True,n_jobs=4)\n",
    "            clf.fit(X,Y)\n",
    "            OOBSCORE.append(clf.oob_score_)\n",
    "            TestAccuracy = float(len(np.where(clf.predict(tX) == tY)[0]))/float(len(tY))\n",
    "            ValidationAccuracy = float(len(np.where(clf.predict(vX) == vY)[0]))/float(len(vY))\n",
    "            TESTSCORE.append(TestAccuracy)\n",
    "            VALSCORE.append(ValidationAccuracy)\n",
    "            print(time.time()-st,n_est,max_features,min_sample_split,clf.oob_score_,TestAccuracy,ValidationAccuracy)\n",
    "print(time.time() - ST)"
   ]
  },
  {
   "cell_type": "code",
   "execution_count": 92,
   "metadata": {},
   "outputs": [],
   "source": [
    "np.save('oobscoren.npy',OOBSCORE)"
   ]
  },
  {
   "cell_type": "code",
   "execution_count": 93,
   "metadata": {},
   "outputs": [],
   "source": [
    "np.save('testscore.npy',TESTSCORE)"
   ]
  },
  {
   "cell_type": "code",
   "execution_count": 95,
   "metadata": {},
   "outputs": [],
   "source": [
    "np.save('valscore.npy',VALSCORE)"
   ]
  },
  {
   "cell_type": "code",
   "execution_count": 100,
   "metadata": {},
   "outputs": [],
   "source": [
    "I = np.argmax(OOBSCORE)\n",
    "OPT_n_estimators_i = I / 25\n",
    "OPT_n_estimators = n_est_grid[OPT_n_estimators_i]\n",
    "I = I % 25\n",
    "OPT_max_features_i = I / 5\n",
    "OPT_max_features = max_features_grid[OPT_max_features_i]\n",
    "I = I % 5\n",
    "OPT_min_samples_split_i = I \n",
    "OPT_min_samples_split = min_sample_split_grid[OPT_min_samples_split_i]"
   ]
  },
  {
   "cell_type": "code",
   "execution_count": 101,
   "metadata": {},
   "outputs": [
    {
     "name": "stdout",
     "output_type": "stream",
     "text": [
      "(250, 0.1, 10)\n"
     ]
    }
   ],
   "source": [
    "print(OPT_n_estimators,OPT_max_features,OPT_min_samples_split)"
   ]
  },
  {
   "cell_type": "code",
   "execution_count": 54,
   "metadata": {},
   "outputs": [
    {
     "data": {
      "text/plain": [
       "RandomForestClassifier(bootstrap=True, class_weight=None, criterion='gini',\n",
       "            max_depth=None, max_features=0.1, max_leaf_nodes=None,\n",
       "            min_impurity_decrease=0.0, min_impurity_split=None,\n",
       "            min_samples_leaf=10, min_samples_split=2,\n",
       "            min_weight_fraction_leaf=0.0, n_estimators=250, n_jobs=4,\n",
       "            oob_score=True, random_state=None, verbose=0, warm_start=False)"
      ]
     },
     "execution_count": 54,
     "metadata": {},
     "output_type": "execute_result"
    }
   ],
   "source": [
    "# Optimal Classifier\n",
    "clf = RandomForestClassifier(n_estimators=OPT_n_estimators,max_features=OPT_max_features,min_samples_leaf=OPT_min_samples_split,n_jobs=4,bootstrap=True,oob_score=True)\n",
    "clf.fit(X,Y)    "
   ]
  },
  {
   "cell_type": "code",
   "execution_count": 56,
   "metadata": {},
   "outputs": [
    {
     "name": "stdout",
     "output_type": "stream",
     "text": [
      "Training Accuracy: 0.828040733701\n",
      "Out of bag Accuracy: 0.8097291116159041\n",
      "Test Accuracy: 0.80645310834\n",
      "Validation Accuracy: 0.805998516596\n"
     ]
    }
   ],
   "source": [
    "# Train Accuracy\n",
    "TrainAccuracy = float(len(np.where(clf.predict(X) == Y)[0]))/float(len(X))\n",
    "# Test Accuracy\n",
    "TestAccuracy = float(len(np.where(clf.predict(tX) == tY)[0]))/float(len(tX))\n",
    "# Validation Accuracy\n",
    "ValidationAccuracy = float(len(np.where(clf.predict(vX) == vY)[0]))/float(len(vX))\n",
    "print(\"Training Accuracy: \"+str(TrainAccuracy))\n",
    "print(\"Out of bag Accuracy: \"+str(clf.oob_score_))\n",
    "print(\"Test Accuracy: \"+str(TestAccuracy))\n",
    "print(\"Validation Accuracy: \"+str(ValidationAccuracy))"
   ]
  },
  {
   "cell_type": "code",
   "execution_count": 106,
   "metadata": {},
   "outputs": [],
   "source": [
    "OOBSCORE_3d = np.reshape(OOBSCORE,(5,5,5))\n",
    "TESTSCORE_3d = np.reshape(TESTSCORE,(5,5,5))\n",
    "VALSCORE_3d = np.reshape(VALSCORE,(5,5,5))"
   ]
  },
  {
   "cell_type": "markdown",
   "metadata": {},
   "source": [
    "### Parametere Sensitivity"
   ]
  },
  {
   "cell_type": "code",
   "execution_count": 138,
   "metadata": {},
   "outputs": [
    {
     "data": {
      "image/png": "[encoded data removed]",
      "text/plain": [
       "<Figure size 432x288 with 1 Axes>"
      ]
     },
     "metadata": {
      "needs_background": "light"
     },
     "output_type": "display_data"
    }
   ],
   "source": [
    "plt.plot(n_est_grid,TESTSCORE_3d[:,OPT_max_features_i,OPT_min_samples_split_i],marker='o')\n",
    "plt.plot(n_est_grid,VALSCORE_3d[:,OPT_max_features_i,OPT_min_samples_split_i],marker='^')\n",
    "plt.plot(n_est_grid,OOBSCORE_3d[:,OPT_max_features_i,OPT_min_samples_split_i],marker='D')\n",
    "plt.axvline(x=OPT_n_estimators,color = 'r')\n",
    "plt.xlabel('n_estimators')\n",
    "plt.ylabel('Accuracy')\n",
    "plt.legend(['Test','Validation','OOB','Optimal'])\n",
    "plt.title('Parameter Sensitivity Analysis (n_estimators)')\n",
    "plt.savefig('psanestimators.png')"
   ]
  },
  {
   "cell_type": "code",
   "execution_count": 139,
   "metadata": {},
   "outputs": [
    {
     "data": {
      "image/png": "[encoded data removed]",
      "text/plain": [
       "<Figure size 432x288 with 1 Axes>"
      ]
     },
     "metadata": {
      "needs_background": "light"
     },
     "output_type": "display_data"
    }
   ],
   "source": [
    "plt.plot(max_features_grid,TESTSCORE_3d[OPT_n_estimators_i,:,OPT_min_samples_split_i],marker = 'o')\n",
    "plt.plot(max_features_grid,VALSCORE_3d[OPT_n_estimators_i,:,OPT_min_samples_split_i],marker = '^')\n",
    "plt.plot(max_features_grid,OOBSCORE_3d[OPT_n_estimators_i,:,OPT_min_samples_split_i],marker='D')\n",
    "plt.axvline(x=OPT_max_features,color = 'r')\n",
    "plt.xlabel('max_features')\n",
    "plt.ylabel('Accuracy')\n",
    "plt.legend(['Test','Validation','OOB','Optimal'])\n",
    "plt.title('Parameter Sensitivity Analysis (max_features)')\n",
    "plt.savefig('psamaxfeatures.png')"
   ]
  },
  {
   "cell_type": "code",
   "execution_count": 140,
   "metadata": {},
   "outputs": [
    {
     "data": {
      "image/png": "[encoded data removed]",
      "text/plain": [
       "<Figure size 432x288 with 1 Axes>"
      ]
     },
     "metadata": {
      "needs_background": "light"
     },
     "output_type": "display_data"
    }
   ],
   "source": [
    "plt.plot(min_sample_split_grid,TESTSCORE_3d[OPT_n_estimators_i,OPT_max_features_i,:],marker = 'o')\n",
    "plt.plot(min_sample_split_grid,VALSCORE_3d[OPT_n_estimators_i,OPT_max_features_i,:],marker = '^')\n",
    "plt.plot(min_sample_split_grid,OOBSCORE_3d[OPT_n_estimators_i,OPT_max_features_i,:],marker = 'D')\n",
    "plt.axvline(x=OPT_min_samples_split,color = 'r')\n",
    "plt.xlabel('min_samples_split')\n",
    "plt.ylabel('Accuracy')\n",
    "plt.legend(['Test','Validation','OOB','Optimal'])\n",
    "plt.title('Parameter Sensitivity Analysis (min_samples_split)')\n",
    "plt.savefig('psaminsample.png')"
   ]
  }
 ],
 "metadata": {
  "kernelspec": {
   "display_name": "Python 3",
   "language": "python",
   "name": "python3"
  },
  "language_info": {
   "codemirror_mode": {
    "name": "ipython",
    "version": 2
   },
   "file_extension": ".py",
   "mimetype": "text/x-python",
   "name": "python",
   "nbconvert_exporter": "python",
   "pygments_lexer": "ipython2",
   "version": "2.7.16"
  }
 },
 "nbformat": 4,
 "nbformat_minor": 2
}
