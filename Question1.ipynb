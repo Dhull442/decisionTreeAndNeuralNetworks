{
 "cells": [
  {
   "cell_type": "code",
   "execution_count": 1,
   "metadata": {},
   "outputs": [],
   "source": [
    "import numpy as np\n",
    "import math\n",
    "TRAIN_FILE_X = 'data/q1/train_x.txt'\n",
    "TRAIN_FILE_Y = 'data/q1/train_y.txt'\n",
    "TEST_FILE_X = 'data/q1/test_x.txt'\n",
    "TEST_FILE_Y = 'data/q1/test_y.txt'\n",
    "VAL_FILE_X = 'data/q1/valid_x.txt'\n",
    "VAL_FILE_Y = 'data/q1/valid_y.txt'"
   ]
  },
  {
   "cell_type": "code",
   "execution_count": 2,
   "metadata": {},
   "outputs": [],
   "source": [
    "def readsparse(filename):\n",
    "    data = []\n",
    "    i = 0\n",
    "    with open(filename) as f:\n",
    "        for line in f:\n",
    "            if(len(data)==0):\n",
    "                head = line.split()\n",
    "                data = np.zeros((int(head[0]),int(head[1]))).astype(float)\n",
    "                i = 0\n",
    "            else:\n",
    "                for el in line.split():\n",
    "                    val = float(el.split(':')[1])\n",
    "                    ind = int(el.split(':')[0])\n",
    "                    data[i][ind]=val\n",
    "                i+=1\n",
    "    return data"
   ]
  },
  {
   "cell_type": "markdown",
   "metadata": {},
   "source": [
    "#### Load data"
   ]
  },
  {
   "cell_type": "code",
   "execution_count": 3,
   "metadata": {},
   "outputs": [],
   "source": [
    "X = readsparse(TRAIN_FILE_X)\n",
    "Y = np.genfromtxt(TRAIN_FILE_Y)"
   ]
  },
  {
   "cell_type": "code",
   "execution_count": 4,
   "metadata": {},
   "outputs": [],
   "source": [
    "vX = readsparse(VAL_FILE_X)\n",
    "vY = np.genfromtxt(TRAIN_FILE_Y)"
   ]
  },
  {
   "cell_type": "code",
   "execution_count": 5,
   "metadata": {},
   "outputs": [],
   "source": [
    "tX = readsparse(TEST_FILE_X)\n",
    "tY = np.genfromtxt(TEST_FILE_Y)"
   ]
  },
  {
   "cell_type": "markdown",
   "metadata": {},
   "source": [
    "### Tree DS"
   ]
  },
  {
   "cell_type": "raw",
   "metadata": {},
   "source": [
    "First try median then try mean"
   ]
  },
  {
   "cell_type": "code",
   "execution_count": 9,
   "metadata": {},
   "outputs": [],
   "source": [
    "def getEntropyforAttribute(X,Y,i):\n",
    "    x = X[:,i]\n",
    "    median = np.median(x)\n",
    "    right = np.where(x > median)[0]\n",
    "    left  = np.where(x <= median)[0]\n",
    "    \n",
    "    # If the attribute has no records / all records are same\n",
    "    if(len(left)==0 or len(right)==0):\n",
    "        return 10.0\n",
    "    \n",
    "    # Number of instances which are 1\n",
    "    left1 = len(np.where(Y[left] == 1)[0])\n",
    "    right1 = len(np.where(Y[right] == 1)[0])\n",
    "    \n",
    "    # Percentage of 1s using this classification\n",
    "    leftP = float(left1)/float(len(left))\n",
    "    rightP = float(right1)/float(len(right))\n",
    "    \n",
    "    # Calculating entropy\n",
    "    S = 0\n",
    "    if(leftP > 0):\n",
    "        S -= leftP * math.log(leftP)\n",
    "    if(rightP > 0):\n",
    "        S -= rightP * math.log(rightP)\n",
    "    return S/math.log(2)"
   ]
  },
  {
   "cell_type": "code",
   "execution_count": 10,
   "metadata": {},
   "outputs": [],
   "source": [
    "numAttr = X.shape[1]"
   ]
  },
  {
   "cell_type": "code",
   "execution_count": 11,
   "metadata": {},
   "outputs": [],
   "source": [
    "def maxEntropyAttribute(X,Y,removedattributes):\n",
    "    attr = -1;\n",
    "    minS = 1000;\n",
    "    for i in range(0,numAttr):\n",
    "        if i not in removedattributes:\n",
    "            S = getEntropyforAttribute(X,Y,i);\n",
    "            if (S < minS):\n",
    "                minS = S;\n",
    "                attr = i;\n",
    "    return attr"
   ]
  },
  {
   "cell_type": "markdown",
   "metadata": {},
   "source": [
    "### Tree Data structure"
   ]
  },
  {
   "cell_type": "raw",
   "metadata": {},
   "source": [
    "Set value as 1 if mean > 0.5 \n",
    "Dont go beyong if num example less than 10"
   ]
  },
  {
   "cell_type": "code",
   "execution_count": 85,
   "metadata": {},
   "outputs": [],
   "source": [
    "class Tree:\n",
    "    def __init__(self):\n",
    "        self.left = None\n",
    "        self.right = None\n",
    "        self.val = 0\n",
    "        self.attr = -1\n",
    "        self.med = -1\n",
    "        self.ht = -1\n",
    "    def setVal(self,Y):\n",
    "        if(np.mean(Y) > 0.5): self.val = 1\n",
    "        else: self.val = 0\n",
    "        return\n",
    "    def build(self,X,Y,ht,removedattributes):\n",
    "        if(len(X) < 10 or ht > htlim):\n",
    "            ## This would be a leaf\n",
    "            self.attr=-2\n",
    "            self.setVal(Y)\n",
    "#             print(\"this was a leaf\")\n",
    "            return\n",
    "        Attribute = maxEntropyAttribute(X,Y,removedattributes)\n",
    "        if(Attribute == -1):\n",
    "            return\n",
    "        self.attr = Attribute\n",
    "        self.med = np.median(X[:,self.attr])\n",
    "        self.ht = ht\n",
    "        removedattributes.append(self.attr)\n",
    "        left = np.where(X[:,self.attr] <= self.med)[0]\n",
    "        self.left = Tree()\n",
    "        self.left.build(X[left],Y[left],ht+1,removedattributes)\n",
    "        right = np.where(X[:,self.attr] > self.med)[0]\n",
    "        self.right = Tree()\n",
    "        self.right.build(X[right],Y[right],ht+1,removedattributes)\n",
    "    def printNode(self):\n",
    "        print(self.attr,self.med,self.val)\n",
    "    def printTree(self):\n",
    "        self.printNode()\n",
    "        if(self.left != None):\n",
    "            print(\"<-\")\n",
    "            self.left.printTree()\n",
    "        if(self.right != None):\n",
    "            print(\"->\")\n",
    "            self.right.printTree()\n",
    "    def predict(self,X):\n",
    "        if(self.attr==-2):\n",
    "            return self.val\n",
    "        elif(self.attr==-1):\n",
    "            return -1\n",
    "        else:\n",
    "            if(X[self.attr]>self.med):\n",
    "                return self.right.predict(X)\n",
    "            else:\n",
    "                return self.left.predict(X)"
   ]
  },
  {
   "cell_type": "code",
   "execution_count": 87,
   "metadata": {},
   "outputs": [],
   "source": [
    "htlim = 25"
   ]
  },
  {
   "cell_type": "code",
   "execution_count": 90,
   "metadata": {},
   "outputs": [],
   "source": [
    "root = Tree()\n",
    "# root.indices = np.arrange(X.shape[0])\n",
    "root.build(X,Y,0,[])"
   ]
  },
  {
   "cell_type": "code",
   "execution_count": 91,
   "metadata": {},
   "outputs": [],
   "source": [
    "R = np.ones_like(tY)\n",
    "for i in range(0,tX.shape[0]):\n",
    "    R[i] = root.predict(tX[i])\n",
    "Correct = len(np.where(R == tY)[0])"
   ]
  },
  {
   "cell_type": "code",
   "execution_count": 92,
   "metadata": {},
   "outputs": [
    {
     "name": "stdout",
     "output_type": "stream",
     "text": [
      "0.606230587363\n"
     ]
    }
   ],
   "source": [
    "print(float(Correct)/float(R.shape[0]))"
   ]
  },
  {
   "cell_type": "code",
   "execution_count": null,
   "metadata": {},
   "outputs": [],
   "source": []
  }
 ],
 "metadata": {
  "kernelspec": {
   "display_name": "Python 3",
   "language": "python",
   "name": "python3"
  },
  "language_info": {
   "codemirror_mode": {
    "name": "ipython",
    "version": 2
   },
   "file_extension": ".py",
   "mimetype": "text/x-python",
   "name": "python",
   "nbconvert_exporter": "python",
   "pygments_lexer": "ipython2",
   "version": "2.7.16"
  }
 },
 "nbformat": 4,
 "nbformat_minor": 2
}
